{
 "cells": [
  {
   "cell_type": "code",
   "execution_count": null,
   "metadata": {},
   "outputs": [],
   "source": [
    "import cv2\n",
    "cap=cv2.VideoCapture(0,cv2.CAP_DSHOW) #Webcam'den görüntü almak için / 0 parametre olarak girilmeli\n",
    "while(True):\n",
    "    ret,frame =cap.read()\n",
    "    frame=cv2.flip(frame,1) # eksenlere göre döndürme işlemi / ilk görderilen döndürülücek ifade, 1:y 0 ve -1 : orjin ve x ekseni\n",
    "    cv2.imshow(\"Webcam\",frame) # pencere adı,gösterilicek\n",
    "    if cv2.waitKey(1) & 0xFF == ord(\"q\"):\n",
    "        break\n",
    "cap.release()\n",
    "cv2.destroyAllWindows()"
   ]
  }
 ],
 "metadata": {
  "kernelspec": {
   "display_name": "Python 3",
   "language": "python",
   "name": "python3"
  },
  "language_info": {
   "codemirror_mode": {
    "name": "ipython",
    "version": 3
   },
   "file_extension": ".py",
   "mimetype": "text/x-python",
   "name": "python",
   "nbconvert_exporter": "python",
   "pygments_lexer": "ipython3",
   "version": "3.8.5"
  }
 },
 "nbformat": 4,
 "nbformat_minor": 4
}
